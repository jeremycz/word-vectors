{
 "metadata": {
  "language_info": {
   "codemirror_mode": {
    "name": "ipython",
    "version": 3
   },
   "file_extension": ".py",
   "mimetype": "text/x-python",
   "name": "python",
   "nbconvert_exporter": "python",
   "pygments_lexer": "ipython3",
   "version": "3.8.3-final"
  },
  "orig_nbformat": 2,
  "kernelspec": {
   "name": "python37464bitenvvenv07d6701ec1b24f3abf17cfc5a1711a04",
   "display_name": "Python 3.7.4 64-bit ('.env': venv)",
   "language": "python"
  }
 },
 "nbformat": 4,
 "nbformat_minor": 2,
 "cells": [
  {
   "source": [
    "# CS224N Assignment 2"
   ],
   "cell_type": "markdown",
   "metadata": {}
  },
  {
   "source": [
    "## 1. (a)\n",
    "\n",
    "$y_w = 0$ for $w \\neq o$, and $y_w = 1$ for $w = o$, thus $-\\sum_{w\\in\\textrm{vocab}}y_w\\log(\\hat{y}_w) = -\\log(\\hat{y}_o)$"
   ],
   "cell_type": "markdown",
   "metadata": {}
  },
  {
   "source": [
    "## 1. (b)\n",
    "\n",
    "$$\n",
    "\\begin{aligned}\n",
    "J_\\textrm{naive-softmax}(v_c,o,U) &= -\\log P(O=o|C=c) \\\\\n",
    "&= -\\log\\frac{\\exp(u_o^Tv_c)}{\\sum_{w\\in\\textrm{vocab}}\\exp(u_w^Tv_c)}\n",
    "\\end{aligned}\n",
    "$$"
   ],
   "cell_type": "markdown",
   "metadata": {}
  },
  {
   "source": [
    "$$\n",
    "\\frac{\\partial J_\\textrm{naive-softmax}(v_c,o,U)}{\\partial v_c} = -\\frac{\\partial}{\\partial v_c}u_o^Tv_c + \\frac{\\partial}{\\partial v_c}\\log\\sum_{w\\in\\textrm{vocab}}\\exp(u_w^Tv_c)\n",
    "$$\n",
    "\n",
    "Differentiating the second component of the equation above:\n",
    "\n",
    "$$\n",
    "\\frac{\\partial}{\\partial v_c}\\log\\sum_{w\\in\\textrm{vocab}}\\exp(u_w^Tv_c) = \\frac{\\partial y(u(v_c))}{\\partial v_c} = \\frac{\\partial y}{\\partial u}\\frac{\\partial u}{\\partial v_c}\n",
    "$$\n",
    "\n",
    "where\n",
    "\n",
    "$$\n",
    "\\begin{aligned}\n",
    "u(v_c) &= \\sum_{w\\in\\textrm{vocab}}\\exp(u_w^Tv_c) \\\\\n",
    "\\frac{\\partial u}{\\partial v_c} &= \\sum_{w\\in\\textrm{vocab}}u_w\\exp(u_w^Tv_c)\n",
    "\\end{aligned}\n",
    "$$\n",
    "\n",
    "Thus\n",
    "\n",
    "$$\n",
    "\\begin{aligned}\n",
    "\\frac{\\partial J_\\textrm{naive-softmax}(v_c,o,U)}{\\partial v_c} &= -u_o + \\sum_{w\\in\\textrm{vocab}}\\frac{\\exp(u_w^Tv_c)}{\\sum_{w\\in\\textrm{vocab}}\\exp(u_w^Tv_c)}\\cdot u_w \\\\\n",
    "&= -\\sum_{w\\in\\textrm{vocab}}(y_w-\\hat{y}_w)u_w \\\\\n",
    "&= -(y-\\hat{y})U\n",
    "\\end{aligned}\n",
    "$$"
   ],
   "cell_type": "markdown",
   "metadata": {}
  },
  {
   "source": [
    "## 1. (c)\n",
    "\n",
    "When $w = o$\n",
    "\n",
    "$$\n",
    "\\begin{aligned}\n",
    "\\frac{\\partial J_\\textrm{naive-softmax}(v_c,o,U)}{\\partial u_o} &= -\\frac{\\partial}{\\partial u_o}u_o^Tv_c + \\frac{\\partial}{\\partial u_o}\\log\\left[\\sum_{w\\in\\textrm{vocab},w\\neq o}\\left[\\exp(u_w^Tv_c)\\right] + \\exp(u_o^Tv_c)\\right] \\\\\n",
    "&= -v_c + v_c\\frac{\\exp(u_o^Tv_c)}{\\sum_{w\\in\\textrm{vocab}}\\exp(u_w^Tv_c)} \\\\\n",
    "&= -v_c + v_c\\hat{y}_o \\\\\n",
    "&= v_c(\\hat{y}_o - 1)\n",
    "\\end{aligned}\n",
    "$$\n",
    "\n",
    "When $w\\neq o$\n",
    "\n",
    "$$\n",
    "\\begin{aligned}\n",
    "\\frac{\\partial J_\\textrm{naive-softmax}(v_c,o,U)}{\\partial u_w} &= -\\frac{\\partial}{\\partial u_w}u_o^Tv_c + \\frac{\\partial}{\\partial u_w}\\log\\left[\\sum_{w\\in\\textrm{vocab},w\\neq o}\\left[\\exp(u_w^Tv_c)\\right] + \\exp(u_o^Tv_c)\\right] \\\\\n",
    "&= v_c\\frac{\\exp(u_w^Tv_c)}{\\sum_{w\\in\\textrm{vocab}}\\exp(u_w^Tv_c)} \\\\\n",
    "&= v_c\\hat{y}_w\n",
    "\\end{aligned}\n",
    "$$"
   ],
   "cell_type": "markdown",
   "metadata": {}
  },
  {
   "source": [
    "## 1. (d)\n",
    "\n",
    "$$\n",
    "\\begin{aligned}\n",
    "\\frac{d\\sigma(x)}{dx} &= \\frac{\\exp(-x)}{(1 + \\exp(-x))(1 + \\exp(-x))} \\\\\n",
    "&= \\frac{1}{1 + \\exp(-x)}\\cdot\\frac{\\exp(-x)}{1 + \\exp(-x)} \\\\\n",
    "&= \\frac{1}{1 + \\exp(-x)}\\cdot\\frac{\\exp(-x) + 1 - 1}{1 + \\exp(-x)} \\\\\n",
    "&= \\frac{1}{1 + \\exp(-x)}\\cdot\\left(\\frac{1 + \\exp(-x)}{1 + \\exp(-x)} - \\frac{1}{1 + \\exp(-x)}\\right) \\\\\n",
    "&= \\sigma(x)\\left(1 - \\sigma(x)\\right)\n",
    "\\end{aligned}\n",
    "$$"
   ],
   "cell_type": "markdown",
   "metadata": {}
  },
  {
   "cell_type": "code",
   "execution_count": null,
   "metadata": {},
   "outputs": [],
   "source": []
  }
 ]
}